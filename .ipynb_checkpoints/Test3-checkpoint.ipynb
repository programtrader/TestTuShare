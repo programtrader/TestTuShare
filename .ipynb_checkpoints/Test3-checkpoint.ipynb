{
 "cells": [
  {
   "cell_type": "code",
   "execution_count": 1,
   "metadata": {
    "collapsed": true
   },
   "outputs": [],
   "source": [
    "import tushare as ts\n",
    "\n",
    "df = ts.get_realtime_quotes('000581') #Single stock symbol"
   ]
  },
  {
   "cell_type": "code",
   "execution_count": 2,
   "metadata": {},
   "outputs": [
    {
     "name": "stdout",
     "output_type": "stream",
     "text": [
      "   name    open pre_close   price    high     low     bid     ask   volume  \\\n",
      "0  威孚高科  24.820    24.940  25.100  25.220  24.660  25.100  25.110  4914937   \n",
      "\n",
      "          amount   ...      a2_p a3_v    a3_p a4_v    a4_p a5_v    a5_p  \\\n",
      "0  122489640.250   ...    25.120   20  25.130   27  25.140  266  25.150   \n",
      "\n",
      "         date      time    code  \n",
      "0  2017-11-07  10:26:12  000581  \n",
      "\n",
      "[1 rows x 33 columns]\n"
     ]
    }
   ],
   "source": [
    "print df"
   ]
  },
  {
   "cell_type": "code",
   "execution_count": 3,
   "metadata": {},
   "outputs": [
    {
     "data": {
      "text/html": [
       "<div>\n",
       "<style>\n",
       "    .dataframe thead tr:only-child th {\n",
       "        text-align: right;\n",
       "    }\n",
       "\n",
       "    .dataframe thead th {\n",
       "        text-align: left;\n",
       "    }\n",
       "\n",
       "    .dataframe tbody tr th {\n",
       "        vertical-align: top;\n",
       "    }\n",
       "</style>\n",
       "<table border=\"1\" class=\"dataframe\">\n",
       "  <thead>\n",
       "    <tr style=\"text-align: right;\">\n",
       "      <th></th>\n",
       "      <th>name</th>\n",
       "      <th>open</th>\n",
       "      <th>pre_close</th>\n",
       "      <th>price</th>\n",
       "      <th>high</th>\n",
       "      <th>low</th>\n",
       "      <th>bid</th>\n",
       "      <th>ask</th>\n",
       "      <th>volume</th>\n",
       "      <th>amount</th>\n",
       "      <th>...</th>\n",
       "      <th>a2_p</th>\n",
       "      <th>a3_v</th>\n",
       "      <th>a3_p</th>\n",
       "      <th>a4_v</th>\n",
       "      <th>a4_p</th>\n",
       "      <th>a5_v</th>\n",
       "      <th>a5_p</th>\n",
       "      <th>date</th>\n",
       "      <th>time</th>\n",
       "      <th>code</th>\n",
       "    </tr>\n",
       "  </thead>\n",
       "  <tbody>\n",
       "    <tr>\n",
       "      <th>0</th>\n",
       "      <td>威孚高科</td>\n",
       "      <td>24.820</td>\n",
       "      <td>24.940</td>\n",
       "      <td>25.100</td>\n",
       "      <td>25.220</td>\n",
       "      <td>24.660</td>\n",
       "      <td>25.100</td>\n",
       "      <td>25.110</td>\n",
       "      <td>4914937</td>\n",
       "      <td>122489640.250</td>\n",
       "      <td>...</td>\n",
       "      <td>25.120</td>\n",
       "      <td>20</td>\n",
       "      <td>25.130</td>\n",
       "      <td>27</td>\n",
       "      <td>25.140</td>\n",
       "      <td>266</td>\n",
       "      <td>25.150</td>\n",
       "      <td>2017-11-07</td>\n",
       "      <td>10:26:12</td>\n",
       "      <td>000581</td>\n",
       "    </tr>\n",
       "  </tbody>\n",
       "</table>\n",
       "<p>1 rows × 33 columns</p>\n",
       "</div>"
      ],
      "text/plain": [
       "   name    open pre_close   price    high     low     bid     ask   volume  \\\n",
       "0  威孚高科  24.820    24.940  25.100  25.220  24.660  25.100  25.110  4914937   \n",
       "\n",
       "          amount   ...      a2_p a3_v    a3_p a4_v    a4_p a5_v    a5_p  \\\n",
       "0  122489640.250   ...    25.120   20  25.130   27  25.140  266  25.150   \n",
       "\n",
       "         date      time    code  \n",
       "0  2017-11-07  10:26:12  000581  \n",
       "\n",
       "[1 rows x 33 columns]"
      ]
     },
     "execution_count": 3,
     "metadata": {},
     "output_type": "execute_result"
    }
   ],
   "source": [
    "df"
   ]
  },
  {
   "cell_type": "code",
   "execution_count": 4,
   "metadata": {},
   "outputs": [
    {
     "data": {
      "text/plain": [
       "RangeIndex(start=0, stop=1, step=1)"
      ]
     },
     "execution_count": 4,
     "metadata": {},
     "output_type": "execute_result"
    }
   ],
   "source": [
    "df.index"
   ]
  },
  {
   "cell_type": "code",
   "execution_count": 5,
   "metadata": {},
   "outputs": [
    {
     "data": {
      "text/plain": [
       "Index([u'name', u'open', u'pre_close', u'price', u'high', u'low', u'bid',\n",
       "       u'ask', u'volume', u'amount', u'b1_v', u'b1_p', u'b2_v', u'b2_p',\n",
       "       u'b3_v', u'b3_p', u'b4_v', u'b4_p', u'b5_v', u'b5_p', u'a1_v', u'a1_p',\n",
       "       u'a2_v', u'a2_p', u'a3_v', u'a3_p', u'a4_v', u'a4_p', u'a5_v', u'a5_p',\n",
       "       u'date', u'time', u'code'],\n",
       "      dtype='object')"
      ]
     },
     "execution_count": 5,
     "metadata": {},
     "output_type": "execute_result"
    }
   ],
   "source": [
    "df.columns"
   ]
  },
  {
   "cell_type": "code",
   "execution_count": 7,
   "metadata": {},
   "outputs": [
    {
     "data": {
      "text/plain": [
       "array([[u'\\u5a01\\u5b5a\\u9ad8\\u79d1', u'24.820', u'24.940', u'25.100',\n",
       "        u'25.220', u'24.660', u'25.100', u'25.110', u'4914937',\n",
       "        u'122489640.250', u'20', u'25.100', u'17', u'25.090', u'149',\n",
       "        u'25.080', u'87', u'25.070', u'50', u'25.060', u'4', u'25.110',\n",
       "        u'312', u'25.120', u'20', u'25.130', u'27', u'25.140', u'266',\n",
       "        u'25.150', u'2017-11-07', u'10:26:12', u'000581']], dtype=object)"
      ]
     },
     "execution_count": 7,
     "metadata": {},
     "output_type": "execute_result"
    }
   ],
   "source": [
    "df.values"
   ]
  },
  {
   "cell_type": "code",
   "execution_count": 9,
   "metadata": {},
   "outputs": [
    {
     "data": {
      "text/plain": [
       "0    威孚高科\n",
       "Name: name, dtype: object"
      ]
     },
     "execution_count": 9,
     "metadata": {},
     "output_type": "execute_result"
    }
   ],
   "source": [
    "df['name']"
   ]
  },
  {
   "cell_type": "code",
   "execution_count": 10,
   "metadata": {
    "collapsed": true
   },
   "outputs": [],
   "source": [
    "a=df['name']"
   ]
  },
  {
   "cell_type": "code",
   "execution_count": 11,
   "metadata": {},
   "outputs": [
    {
     "data": {
      "text/plain": [
       "0    威孚高科\n",
       "Name: name, dtype: object"
      ]
     },
     "execution_count": 11,
     "metadata": {},
     "output_type": "execute_result"
    }
   ],
   "source": [
    "a"
   ]
  },
  {
   "cell_type": "code",
   "execution_count": 12,
   "metadata": {},
   "outputs": [
    {
     "name": "stdout",
     "output_type": "stream",
     "text": [
      "0    威孚高科\n",
      "Name: name, dtype: object\n"
     ]
    }
   ],
   "source": [
    "print a"
   ]
  },
  {
   "cell_type": "code",
   "execution_count": 13,
   "metadata": {},
   "outputs": [
    {
     "data": {
      "text/plain": [
       "array([u'\\u5a01\\u5b5a\\u9ad8\\u79d1'], dtype=object)"
      ]
     },
     "execution_count": 13,
     "metadata": {},
     "output_type": "execute_result"
    }
   ],
   "source": [
    "a.values"
   ]
  },
  {
   "cell_type": "code",
   "execution_count": null,
   "metadata": {},
   "outputs": [],
   "source": [
    "a[0]"
   ]
  },
  {
   "cell_type": "code",
   "execution_count": null,
   "metadata": {
    "collapsed": true
   },
   "outputs": [],
   "source": [
    "df = ts.get_realtime_quotes('000581') #Single stock symbol"
   ]
  },
  {
   "cell_type": "code",
   "execution_count": null,
   "metadata": {
    "collapsed": true
   },
   "outputs": [],
   "source": []
  }
 ],
 "metadata": {
  "kernelspec": {
   "display_name": "Python 2",
   "language": "python",
   "name": "python2"
  },
  "language_info": {
   "codemirror_mode": {
    "name": "ipython",
    "version": 2
   },
   "file_extension": ".py",
   "mimetype": "text/x-python",
   "name": "python",
   "nbconvert_exporter": "python",
   "pygments_lexer": "ipython2",
   "version": "2.7.13"
  }
 },
 "nbformat": 4,
 "nbformat_minor": 2
}
